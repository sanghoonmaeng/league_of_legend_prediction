{
 "cells": [
  {
   "cell_type": "code",
   "execution_count": 1,
   "id": "cb261d3a",
   "metadata": {},
   "outputs": [],
   "source": [
    "import jsonlines\n",
    "import pandas as pd\n",
    "import pickle"
   ]
  },
  {
   "cell_type": "code",
   "execution_count": 2,
   "id": "b3992bd7",
   "metadata": {
    "scrolled": true
   },
   "outputs": [],
   "source": [
    "file_path = \"data/matches.jsonl\"\n",
    "player_stats = []\n",
    "team_stats = []\n",
    "\n",
    "# Read matches from the JSON Lines file\n",
    "with jsonlines.open(file_path, \"r\") as file:\n",
    "    for match in file:\n",
    "        # Extracts individual player's statistics\n",
    "        for player in match['info']['participants']:\n",
    "            player_stats.append({\n",
    "                'match_id' : match['metadata']['matchId'],\n",
    "                'duration' : match['info']['gameDuration'],\n",
    "                'position' : player['teamPosition'],\n",
    "                'kills' : player['kills'],\n",
    "                'deaths' : player['deaths'],\n",
    "                'assists' : player['assists'],\n",
    "                'gold_earned' : player['goldEarned'],\n",
    "                'neutral_minions' : player['neutralMinionsKilled'],\n",
    "                'vision_score' : player['visionScore'],\n",
    "                'lane_minions' : player['totalMinionsKilled'],\n",
    "                'win' : player['win']\n",
    "            })\n",
    "            \n",
    "        # Extracts each team's statistics    \n",
    "        for team in match['info']['teams']:\n",
    "            team_stats.append({\n",
    "                'match_id' : match['metadata']['matchId'],\n",
    "                'teamId' : str(team['teamId']),\n",
    "                'first_baron' : team['objectives']['baron']['first'],\n",
    "                'first_blood' : team['objectives']['champion']['first'],\n",
    "                'first_dragon' : team['objectives']['dragon']['first'],\n",
    "                'first_inhibitor' : team['objectives']['inhibitor']['first'],\n",
    "                'first_herald' : team['objectives']['riftHerald']['first'],\n",
    "                'first_tower' : team['objectives']['tower']['first'],\n",
    "                'total_baron' : team['objectives']['baron']['kills'],\n",
    "                'total_dragon' : team['objectives']['dragon']['kills'],\n",
    "                'total_inhibitor' : team['objectives']['inhibitor']['kills'],\n",
    "                'total_herald' : team['objectives']['riftHerald']['kills'],\n",
    "                'total_tower' : team['objectives']['tower']['kills'],\n",
    "                 'win' : team['win']\n",
    "            })"
   ]
  },
  {
   "cell_type": "code",
   "execution_count": 3,
   "id": "38953e95",
   "metadata": {},
   "outputs": [],
   "source": [
    "# Creates each statistics into a dataframe\n",
    "team_df = pd.DataFrame(team_stats)\n",
    "player_df = pd.DataFrame(player_stats)"
   ]
  },
  {
   "cell_type": "code",
   "execution_count": 4,
   "id": "c95c91e6",
   "metadata": {},
   "outputs": [],
   "source": [
    "# Create a dictionary to hold the dataFrames\n",
    "dataframes = {'team_stats': team_df, 'player_stats': player_df}\n",
    "\n",
    "# Save each dataFrame to a separate pickle file\n",
    "for name, df in dataframes.items():\n",
    "    filename = f'data/{name}.pickle'\n",
    "    with open(filename, 'wb') as f:\n",
    "        pickle.dump(df, f)"
   ]
  }
 ],
 "metadata": {
  "kernelspec": {
   "display_name": "Python 3 (ipykernel)",
   "language": "python",
   "name": "python3"
  },
  "language_info": {
   "codemirror_mode": {
    "name": "ipython",
    "version": 3
   },
   "file_extension": ".py",
   "mimetype": "text/x-python",
   "name": "python",
   "nbconvert_exporter": "python",
   "pygments_lexer": "ipython3",
   "version": "3.9.16"
  }
 },
 "nbformat": 4,
 "nbformat_minor": 5
}
