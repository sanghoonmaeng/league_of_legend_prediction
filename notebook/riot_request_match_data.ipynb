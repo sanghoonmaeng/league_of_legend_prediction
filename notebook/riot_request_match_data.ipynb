{
 "cells": [
  {
   "cell_type": "code",
   "execution_count": 5,
   "id": "70af1e79",
   "metadata": {},
   "outputs": [],
   "source": [
    "# Imports necesary libraries\n",
    "import requests\n",
    "import time\n",
    "import json\n",
    "import numpy as np\n",
    "\n",
    "# Config for API requests\n",
    "api_key = 'YOUR API KEY'\n",
    "server = 'NA1' # NA1, EUW1, AP-SOUTHEAST-1, etc.\n",
    "region = 'americas' # Will be different based on your server\n",
    "queue = 'RANKED_SOLO_5x5' # Game type for ranked match\n",
    "queue_id = 420 # Solo ranked matches only\n",
    "players = 1000 # Number of players from a ranked queue\n",
    "num_games = 10 # Number of games played per player"
   ]
  },
  {
   "cell_type": "code",
   "execution_count": 6,
   "id": "680aee81",
   "metadata": {},
   "outputs": [],
   "source": [
    "summoners_url = f'https://{server}.api.riotgames.com/lol/league/v4/masterleagues/by-queue/{queue}?api_key={api_key}'\n",
    "response = requests.get(summoners_url)\n",
    "summoners = response.json()"
   ]
  },
  {
   "cell_type": "code",
   "execution_count": 7,
   "id": "4560563b",
   "metadata": {},
   "outputs": [],
   "source": [
    "summoner_names = []\n",
    "for i in range(players): # Chooses the players from the Master's league\n",
    "    name = summoners['entries'][i]['summonerName'] # Process the result and extract summoner name\n",
    "    summoner_names.append(name)"
   ]
  },
  {
   "cell_type": "code",
   "execution_count": 8,
   "id": "42bf0fe3",
   "metadata": {},
   "outputs": [],
   "source": [
    "def get_player_ids():\n",
    "    puuid_list = []\n",
    "    global summoner_names\n",
    "    counter = players\n",
    "    \n",
    "    while counter > 0:\n",
    "        for _ in range(5): # Request in a batch of five to meet the rate limit of 100 requests every 2 minutes\n",
    "            limit = min(20, len(summoner_names))      \n",
    "            time.sleep(1.5)\n",
    "            for i in range(limit): # 20 requests per second\n",
    "                summoner = summoner_names[i]\n",
    "                puuid_url = f'https://{server}.api.riotgames.com/lol/summoner/v4/summoners/by-name/{summoner}?api_key={api_key}'\n",
    "                response = requests.get(puuid_url)\n",
    "                if response.status_code == 429:\n",
    "                    print(\"Exceeded API rate limit\")\n",
    "                    time.sleep(120)\n",
    "                    continue\n",
    "                player = response.json()\n",
    "                try: # Unsure why but some players do not have puuid\n",
    "                    puuid_list.append(player[\"puuid\"]) # Process the result and extract player IDs\n",
    "                except:\n",
    "                    continue\n",
    "            counter -= limit\n",
    "            summoner_names = summoner_names[limit:]\n",
    "        time.sleep(120) # 100 requests every 2 minutes\n",
    "        \n",
    "    return puuid_list"
   ]
  },
  {
   "cell_type": "code",
   "execution_count": 9,
   "id": "f370e8a4",
   "metadata": {},
   "outputs": [],
   "source": [
    "def get_match_ids():\n",
    "    match_ids = []\n",
    "    global puuid_list\n",
    "    counter = len(puuid_list)\n",
    "    \n",
    "    while counter > 0:\n",
    "        for _ in range(5): # Makes five of 20 requests per second\n",
    "            limit = min(20, len(puuid_list))\n",
    "            time.sleep(1.5)\n",
    "            for i in range(limit): # 20 requests per second\n",
    "                puuid = puuid_list[i]\n",
    "                match_id_url = f'https://{region}.api.riotgames.com/lol/match/v5/matches/by-puuid/{puuid}/ids?queue={queue_id}&start=0&count={num_games}&api_key={api_key}'\n",
    "                response = requests.get(match_id_url)\n",
    "                if response.status_code == 429:\n",
    "                    print(\"Exceeded API rate limit\")\n",
    "                    time.sleep(120)\n",
    "                    continue\n",
    "                match_id = response.json()\n",
    "                match_ids.extend(match_id) # Process the result and extract match IDs\n",
    "            counter -= limit\n",
    "            puuid_list = puuid_list[limit:]\n",
    "        time.sleep(120) # 100 requests every 2 minutes\n",
    "        \n",
    "    return match_ids"
   ]
  },
  {
   "cell_type": "code",
   "execution_count": 10,
   "id": "6f1b9932",
   "metadata": {},
   "outputs": [],
   "source": [
    "def get_match_data():\n",
    "    match_list = []\n",
    "    global match_ids\n",
    "    unique_ids = list(set(match_ids)) # Remove any duplicate matches by chance\n",
    "    counter = len(unique_ids)\n",
    "    \n",
    "    while counter > 0:\n",
    "        for _ in range(5): # Makes five of 20 requests per second\n",
    "            limit = min(20, len(unique_ids))\n",
    "            time.sleep(1.5)\n",
    "            for i in range(limit): # 20 requests per second\n",
    "                match_id = unique_ids[i]\n",
    "                match_url = f'https://{region}.api.riotgames.com/lol/match/v5/matches/{match_id}?api_key={api_key}'\n",
    "                response = requests.get(match_url)\n",
    "                if response.status_code == 429:\n",
    "                    print(\"Exceeded API rate limit\")\n",
    "                    time.sleep(120)\n",
    "                    continue\n",
    "                match = response.json()\n",
    "                match_list.append(match) # Process the result and extract match\n",
    "            counter -= limit\n",
    "            unique_ids = unique_ids[limit:]\n",
    "        time.sleep(120) # 100 requests every 2 minutes\n",
    "        \n",
    "    return match_list"
   ]
  },
  {
   "cell_type": "code",
   "execution_count": 11,
   "id": "f5301785",
   "metadata": {},
   "outputs": [],
   "source": [
    "time.sleep(120)\n",
    "puuid_list = get_player_ids()"
   ]
  },
  {
   "cell_type": "code",
   "execution_count": 12,
   "id": "35080c8b",
   "metadata": {},
   "outputs": [],
   "source": [
    "time.sleep(120)\n",
    "match_ids = get_match_ids()"
   ]
  },
  {
   "cell_type": "code",
   "execution_count": 13,
   "id": "609562f3",
   "metadata": {},
   "outputs": [],
   "source": [
    "time.sleep(120)\n",
    "matches = get_match_data()"
   ]
  },
  {
   "cell_type": "code",
   "execution_count": null,
   "id": "aab1dc14",
   "metadata": {},
   "outputs": [],
   "source": [
    "with open(\"data/matches.jsonl\", \"w\") as file:\n",
    "    for match in matches:\n",
    "        json.dump(match, file)\n",
    "        file.write(\"\\n\")"
   ]
  }
 ],
 "metadata": {
  "kernelspec": {
   "display_name": "Python 3 (ipykernel)",
   "language": "python",
   "name": "python3"
  },
  "language_info": {
   "codemirror_mode": {
    "name": "ipython",
    "version": 3
   },
   "file_extension": ".py",
   "mimetype": "text/x-python",
   "name": "python",
   "nbconvert_exporter": "python",
   "pygments_lexer": "ipython3",
   "version": "3.9.16"
  }
 },
 "nbformat": 4,
 "nbformat_minor": 5
}
